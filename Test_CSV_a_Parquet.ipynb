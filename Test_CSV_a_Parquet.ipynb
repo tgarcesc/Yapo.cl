{
  "nbformat": 4,
  "nbformat_minor": 0,
  "metadata": {
    "colab": {
      "name": "Test - CSV a Parquet.ipynb",
      "provenance": []
    },
    "kernelspec": {
      "name": "python3",
      "display_name": "Python 3"
    },
    "language_info": {
      "name": "python"
    }
  },
  "cells": [
    {
      "cell_type": "markdown",
      "metadata": {
        "id": "uuZlbW86-9iA"
      },
      "source": [
        "## Bibliotecas"
      ]
    },
    {
      "cell_type": "code",
      "metadata": {
        "colab": {
          "base_uri": "https://localhost:8080/"
        },
        "id": "3X2I2V0I4wcr",
        "outputId": "a08a1d5f-75a0-4aba-dd6c-a6d3b0b2ce28"
      },
      "source": [
        "import pandas as pd\n",
        "from google.colab import drive\n",
        "import os\n",
        "drive.mount('/content/drive')"
      ],
      "execution_count": 1,
      "outputs": [
        {
          "output_type": "stream",
          "text": [
            "Mounted at /content/drive\n"
          ],
          "name": "stdout"
        }
      ]
    },
    {
      "cell_type": "markdown",
      "metadata": {
        "id": "ClVXc9aL_A1H"
      },
      "source": [
        "## Variables"
      ]
    },
    {
      "cell_type": "code",
      "metadata": {
        "id": "z73x327y429d"
      },
      "source": [
        "#Ruta de Drive donde están los csv\n",
        "main_path = \"drive/MyDrive/Prueba Yapo/\"\n",
        "\n",
        "#Carpetas donde están los csv\n",
        "folders = [\"may\", \"june\"]"
      ],
      "execution_count": 2,
      "outputs": []
    },
    {
      "cell_type": "markdown",
      "metadata": {
        "id": "gPyKX5cz_BaH"
      },
      "source": [
        "## CSV a Parquet"
      ]
    },
    {
      "cell_type": "code",
      "metadata": {
        "id": "gV5uLm5vIjF-"
      },
      "source": [
        "for folder in folders:\n",
        "  all_files = os.listdir(main_path+folder)\n",
        "  for file_name in all_files:\n",
        "    df = pd.read_csv(main_path+folder+\"/\"+file_name)\n",
        "    df.to_parquet('drive/MyDrive/Parquets/'+folder+\"/\"+file_name[:len(file_name)-4]+\".parquet\")"
      ],
      "execution_count": 5,
      "outputs": []
    },
    {
      "cell_type": "markdown",
      "metadata": {
        "id": "5fuTK4f-QLjR"
      },
      "source": [
        "## Tiempo probado: 7:45 min"
      ]
    }
  ]
}