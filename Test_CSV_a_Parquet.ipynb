{
  "nbformat": 4,
  "nbformat_minor": 0,
  "metadata": {
    "colab": {
      "name": "Test - CSV a Parquet.ipynb",
      "provenance": []
    },
    "kernelspec": {
      "name": "python3",
      "display_name": "Python 3"
    },
    "language_info": {
      "name": "python"
    }
  },
  "cells": [
    {
      "cell_type": "markdown",
      "metadata": {
        "id": "uuZlbW86-9iA"
      },
      "source": [
        "## Bibliotecas"
      ]
    },
    {
      "cell_type": "code",
      "metadata": {
        "colab": {
          "base_uri": "https://localhost:8080/"
        },
        "id": "3X2I2V0I4wcr",
        "outputId": "222e45d1-4c51-4fc3-aa56-da1eaf49a323"
      },
      "source": [
        "import pandas as pd\n",
        "from google.colab import drive\n",
        "import os\n",
        "drive.mount('/content/drive')"
      ],
      "execution_count": 1,
      "outputs": [
        {
          "output_type": "stream",
          "text": [
            "Mounted at /content/drive\n"
          ],
          "name": "stdout"
        }
      ]
    },
    {
      "cell_type": "markdown",
      "metadata": {
        "id": "gPyKX5cz_BaH"
      },
      "source": [
        "## Función: CSV a Parquet"
      ]
    },
    {
      "cell_type": "code",
      "metadata": {
        "id": "gV5uLm5vIjF-"
      },
      "source": [
        "def csv_to_parquet(main_path, folders, monthsFolder, parquetFolder):\n",
        "  for folder in folders:\n",
        "    all_files = os.listdir(main_path+monthsFolder+folder)\n",
        "    for file_name in all_files:\n",
        "      df = pd.read_csv(main_path+monthsFolder+folder+\"/\"+file_name)\n",
        "      df.to_parquet(main_path+parquetFolder+folder+\"/\"+file_name[:len(file_name)-4]+\".parquet\")"
      ],
      "execution_count": 2,
      "outputs": []
    },
    {
      "cell_type": "markdown",
      "metadata": {
        "id": "ClVXc9aL_A1H"
      },
      "source": [
        "## Variables"
      ]
    },
    {
      "cell_type": "code",
      "metadata": {
        "id": "z73x327y429d"
      },
      "source": [
        "#Ruta de Drive donde están los csv\n",
        "ruta_principal = \"drive/MyDrive/\"\n",
        "#Carpeta de Drive donde están los meses\n",
        "carpeta_meses = \"Prueba Yapo/\"\n",
        "#Carpeta de Drive donde estarán los Parquets\n",
        "carpeta_parquets = \"Parquets/\"\n",
        "#Carpetas donde están los csv\n",
        "carpetas = [\"may\", \"june\"]"
      ],
      "execution_count": 3,
      "outputs": []
    },
    {
      "cell_type": "markdown",
      "metadata": {
        "id": "HHJzHs-Cxoex"
      },
      "source": [
        "# Ejecución"
      ]
    },
    {
      "cell_type": "code",
      "metadata": {
        "id": "jgorEw7dxpHA"
      },
      "source": [
        "csv_to_parquet(ruta_principal, carpetas, carpeta_meses, carpeta_parquets)"
      ],
      "execution_count": 4,
      "outputs": []
    },
    {
      "cell_type": "markdown",
      "metadata": {
        "id": "5fuTK4f-QLjR"
      },
      "source": [
        "## Tiempo probado: 7:45 min"
      ]
    }
  ]
}